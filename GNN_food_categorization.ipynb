{
 "cells": [
  {
   "cell_type": "code",
   "execution_count": 3,
   "metadata": {},
   "outputs": [
    {
     "name": "stdout",
     "output_type": "stream",
     "text": [
      "Collecting torch\n",
      "  Downloading torch-2.2.2-cp38-none-macosx_10_9_x86_64.whl (150.6 MB)\n",
      "\u001b[K     |████████████████████████████████| 150.6 MB 168 kB/s  eta 0:00:01     |█████████████████████████████▌  | 138.9 MB 30.8 MB/s eta 0:00:01\n",
      "\u001b[?25hRequirement already satisfied: jinja2 in /Users/Cathryn/anaconda3/lib/python3.8/site-packages (from torch) (2.11.2)\n",
      "Requirement already satisfied: sympy in /Users/Cathryn/anaconda3/lib/python3.8/site-packages (from torch) (1.6.2)\n",
      "Requirement already satisfied: fsspec in /Users/Cathryn/anaconda3/lib/python3.8/site-packages (from torch) (0.8.3)\n",
      "Requirement already satisfied: typing-extensions>=4.8.0 in /Users/Cathryn/anaconda3/lib/python3.8/site-packages (from torch) (4.9.0)\n",
      "Requirement already satisfied: networkx in /Users/Cathryn/anaconda3/lib/python3.8/site-packages (from torch) (2.5)\n",
      "Requirement already satisfied: filelock in /Users/Cathryn/anaconda3/lib/python3.8/site-packages (from torch) (3.0.12)\n",
      "Requirement already satisfied: MarkupSafe>=0.23 in /Users/Cathryn/anaconda3/lib/python3.8/site-packages (from jinja2->torch) (1.1.1)\n",
      "Requirement already satisfied: mpmath>=0.19 in /Users/Cathryn/anaconda3/lib/python3.8/site-packages (from sympy->torch) (1.1.0)\n",
      "Requirement already satisfied: decorator>=4.3.0 in /Users/Cathryn/anaconda3/lib/python3.8/site-packages (from networkx->torch) (4.4.2)\n",
      "Installing collected packages: torch\n",
      "Successfully installed torch-2.2.2\n"
     ]
    }
   ],
   "source": [
    "!pip install torch"
   ]
  },
  {
   "cell_type": "code",
   "execution_count": 4,
   "metadata": {},
   "outputs": [
    {
     "name": "stdout",
     "output_type": "stream",
     "text": [
      "Requirement already satisfied: torch_geometric in /Users/Cathryn/anaconda3/lib/python3.8/site-packages (2.5.2)\n",
      "Requirement already satisfied: tqdm in /Users/Cathryn/anaconda3/lib/python3.8/site-packages (from torch_geometric) (4.50.2)\n",
      "Requirement already satisfied: fsspec in /Users/Cathryn/anaconda3/lib/python3.8/site-packages (from torch_geometric) (0.8.3)\n",
      "Requirement already satisfied: scipy in /Users/Cathryn/anaconda3/lib/python3.8/site-packages (from torch_geometric) (1.5.2)\n",
      "Requirement already satisfied: pyparsing in /Users/Cathryn/anaconda3/lib/python3.8/site-packages (from torch_geometric) (2.4.7)\n",
      "Requirement already satisfied: numpy in /Users/Cathryn/anaconda3/lib/python3.8/site-packages (from torch_geometric) (1.19.2)\n",
      "Requirement already satisfied: aiohttp in /Users/Cathryn/anaconda3/lib/python3.8/site-packages (from torch_geometric) (3.9.3)\n",
      "Requirement already satisfied: psutil>=5.8.0 in /Users/Cathryn/anaconda3/lib/python3.8/site-packages (from torch_geometric) (5.9.8)\n",
      "Requirement already satisfied: jinja2 in /Users/Cathryn/anaconda3/lib/python3.8/site-packages (from torch_geometric) (2.11.2)\n",
      "Requirement already satisfied: requests in /Users/Cathryn/anaconda3/lib/python3.8/site-packages (from torch_geometric) (2.24.0)\n",
      "Requirement already satisfied: scikit-learn in /Users/Cathryn/anaconda3/lib/python3.8/site-packages (from torch_geometric) (0.23.2)\n",
      "Requirement already satisfied: attrs>=17.3.0 in /Users/Cathryn/anaconda3/lib/python3.8/site-packages (from aiohttp->torch_geometric) (20.3.0)\n",
      "Requirement already satisfied: aiosignal>=1.1.2 in /Users/Cathryn/anaconda3/lib/python3.8/site-packages (from aiohttp->torch_geometric) (1.3.1)\n",
      "Requirement already satisfied: yarl<2.0,>=1.0 in /Users/Cathryn/anaconda3/lib/python3.8/site-packages (from aiohttp->torch_geometric) (1.9.4)\n",
      "Requirement already satisfied: multidict<7.0,>=4.5 in /Users/Cathryn/anaconda3/lib/python3.8/site-packages (from aiohttp->torch_geometric) (6.0.5)\n",
      "Requirement already satisfied: async-timeout<5.0,>=4.0; python_version < \"3.11\" in /Users/Cathryn/anaconda3/lib/python3.8/site-packages (from aiohttp->torch_geometric) (4.0.3)\n",
      "Requirement already satisfied: frozenlist>=1.1.1 in /Users/Cathryn/anaconda3/lib/python3.8/site-packages (from aiohttp->torch_geometric) (1.4.1)\n",
      "Requirement already satisfied: MarkupSafe>=0.23 in /Users/Cathryn/anaconda3/lib/python3.8/site-packages (from jinja2->torch_geometric) (1.1.1)\n",
      "Requirement already satisfied: chardet<4,>=3.0.2 in /Users/Cathryn/anaconda3/lib/python3.8/site-packages (from requests->torch_geometric) (3.0.4)\n",
      "Requirement already satisfied: certifi>=2017.4.17 in /Users/Cathryn/anaconda3/lib/python3.8/site-packages (from requests->torch_geometric) (2020.6.20)\n",
      "Requirement already satisfied: idna<3,>=2.5 in /Users/Cathryn/anaconda3/lib/python3.8/site-packages (from requests->torch_geometric) (2.10)\n",
      "Requirement already satisfied: urllib3!=1.25.0,!=1.25.1,<1.26,>=1.21.1 in /Users/Cathryn/anaconda3/lib/python3.8/site-packages (from requests->torch_geometric) (1.25.11)\n",
      "Requirement already satisfied: joblib>=0.11 in /Users/Cathryn/anaconda3/lib/python3.8/site-packages (from scikit-learn->torch_geometric) (0.17.0)\n",
      "Requirement already satisfied: threadpoolctl>=2.0.0 in /Users/Cathryn/anaconda3/lib/python3.8/site-packages (from scikit-learn->torch_geometric) (2.1.0)\n"
     ]
    }
   ],
   "source": [
    "!pip3 install torch_geometric"
   ]
  },
  {
   "cell_type": "code",
   "execution_count": 8,
   "metadata": {},
   "outputs": [
    {
     "name": "stdout",
     "output_type": "stream",
     "text": [
      "Requirement already satisfied: torch in /Users/Cathryn/anaconda3/lib/python3.8/site-packages (2.2.2)\n",
      "Collecting torchvision\n",
      "  Downloading torchvision-0.17.2-cp38-cp38-macosx_10_13_x86_64.whl (1.7 MB)\n",
      "\u001b[K     |████████████████████████████████| 1.7 MB 3.1 MB/s eta 0:00:01\n",
      "\u001b[?25hRequirement already satisfied: fsspec in /Users/Cathryn/anaconda3/lib/python3.8/site-packages (from torch) (0.8.3)\n",
      "Requirement already satisfied: filelock in /Users/Cathryn/anaconda3/lib/python3.8/site-packages (from torch) (3.0.12)\n",
      "Requirement already satisfied: sympy in /Users/Cathryn/anaconda3/lib/python3.8/site-packages (from torch) (1.6.2)\n",
      "Requirement already satisfied: typing-extensions>=4.8.0 in /Users/Cathryn/anaconda3/lib/python3.8/site-packages (from torch) (4.9.0)\n",
      "Requirement already satisfied: jinja2 in /Users/Cathryn/anaconda3/lib/python3.8/site-packages (from torch) (2.11.2)\n",
      "Requirement already satisfied: networkx in /Users/Cathryn/anaconda3/lib/python3.8/site-packages (from torch) (2.5)\n",
      "Requirement already satisfied: pillow!=8.3.*,>=5.3.0 in /Users/Cathryn/anaconda3/lib/python3.8/site-packages (from torchvision) (8.0.1)\n",
      "Requirement already satisfied: numpy in /Users/Cathryn/anaconda3/lib/python3.8/site-packages (from torchvision) (1.19.2)\n",
      "Requirement already satisfied: mpmath>=0.19 in /Users/Cathryn/anaconda3/lib/python3.8/site-packages (from sympy->torch) (1.1.0)\n",
      "Requirement already satisfied: MarkupSafe>=0.23 in /Users/Cathryn/anaconda3/lib/python3.8/site-packages (from jinja2->torch) (1.1.1)\n",
      "Requirement already satisfied: decorator>=4.3.0 in /Users/Cathryn/anaconda3/lib/python3.8/site-packages (from networkx->torch) (4.4.2)\n",
      "Installing collected packages: torchvision\n",
      "Successfully installed torchvision-0.17.2\n",
      "Note: you may need to restart the kernel to use updated packages.\n"
     ]
    }
   ],
   "source": [
    "!pip install torch torchvision"
   ]
  },
  {
   "cell_type": "code",
   "execution_count": 35,
   "metadata": {},
   "outputs": [],
   "source": [
    "import torch\n",
    "from torch_geometric.data import Data\n",
    "import torch.nn.functional as F\n",
    "\n",
    "# num_classes = 3\n",
    "# edge_index = torch.tensor([[0, 1, 1, 2, 3, 2],\n",
    "#                            [1, 0, 2, 1, 2, 3]], dtype=torch.long)\n",
    "# x = torch.tensor([[], [], [], []], dtype=torch.float)\n",
    "# y = torch.tensor([[0, 1, 0], [0, 0, 1], [1, 0, 1], [1, 0, 0]], dtype=torch.float)\n",
    "# train_mask = torch.tensor([True, True, False, False], dtype=torch.bool)\n",
    "# test_mask = torch.tensor([False, False, True, True], dtype=torch.bool)\n",
    "# x\n",
    "# data = Data(x=x, edge_index=edge_index, y=y, train_mask=train_mask, test_mask=test_mask)\n",
    "# data"
   ]
  },
  {
   "cell_type": "code",
   "execution_count": 64,
   "metadata": {},
   "outputs": [
    {
     "name": "stdout",
     "output_type": "stream",
     "text": [
      "Data(x=[179, 0], edge_index=[2, 1008], y=[179, 327])\n",
      "179\n",
      "tensor([False, False, False, False, False, False, False, False,  True, False,\n",
      "        False, False, False, False, False,  True, False, False, False, False,\n",
      "        False, False, False, False, False, False, False,  True,  True,  True,\n",
      "        False, False, False, False,  True, False, False, False, False, False,\n",
      "        False,  True,  True, False,  True, False, False, False, False, False,\n",
      "        False, False, False,  True, False,  True,  True,  True, False, False,\n",
      "        False, False, False, False, False, False, False, False, False,  True,\n",
      "        False, False, False, False, False, False, False, False, False, False,\n",
      "        False, False, False,  True, False, False,  True, False,  True, False,\n",
      "        False,  True, False, False, False, False, False,  True, False,  True,\n",
      "        False, False,  True, False, False, False, False, False, False, False,\n",
      "        False, False, False, False, False,  True, False, False, False, False,\n",
      "        False, False, False, False, False, False, False, False,  True, False,\n",
      "        False, False, False,  True, False, False, False,  True, False,  True,\n",
      "        False, False, False, False,  True, False, False, False, False, False,\n",
      "         True,  True, False,  True,  True, False, False, False, False, False,\n",
      "        False,  True, False,  True, False,  True,  True, False, False, False,\n",
      "        False, False, False, False, False, False,  True, False, False])\n",
      "tensor([ True,  True,  True,  True,  True,  True,  True,  True, False,  True,\n",
      "         True,  True,  True,  True,  True, False,  True,  True,  True,  True,\n",
      "         True,  True,  True,  True,  True,  True,  True, False, False, False,\n",
      "         True,  True,  True,  True, False,  True,  True,  True,  True,  True,\n",
      "         True, False, False,  True, False,  True,  True,  True,  True,  True,\n",
      "         True,  True,  True, False,  True, False, False, False,  True,  True,\n",
      "         True,  True,  True,  True,  True,  True,  True,  True,  True, False,\n",
      "         True,  True,  True,  True,  True,  True,  True,  True,  True,  True,\n",
      "         True,  True,  True, False,  True,  True, False,  True, False,  True,\n",
      "         True, False,  True,  True,  True,  True,  True, False,  True, False,\n",
      "         True,  True, False,  True,  True,  True,  True,  True,  True,  True,\n",
      "         True,  True,  True,  True,  True, False,  True,  True,  True,  True,\n",
      "         True,  True,  True,  True,  True,  True,  True,  True, False,  True,\n",
      "         True,  True,  True, False,  True,  True,  True, False,  True, False,\n",
      "         True,  True,  True,  True, False,  True,  True,  True,  True,  True,\n",
      "        False, False,  True, False, False,  True,  True,  True,  True,  True,\n",
      "         True, False,  True, False,  True, False, False,  True,  True,  True,\n",
      "         True,  True,  True,  True,  True,  True, False,  True,  True])\n"
     ]
    },
    {
     "data": {
      "text/plain": [
       "Data(x=[179, 0], edge_index=[2, 1008], y=[179, 327], test_mask=[179], train_mask=[179])"
      ]
     },
     "execution_count": 64,
     "metadata": {},
     "output_type": "execute_result"
    }
   ],
   "source": [
    "from torch.utils.data import random_split\n",
    "\n",
    "data = torch.load('sample_GNN_data.pt')\n",
    "print(data)\n",
    "\n",
    "# Assuming 'dataset' is your entire dataset\n",
    "dataset_size = data.x.shape[0]\n",
    "print(dataset_size)\n",
    "train_size = int(0.8 * dataset_size)\n",
    "test_size = dataset_size - train_size\n",
    "\n",
    "train_dataset, test_dataset = random_split(data.x, [train_size, test_size])\n",
    "\n",
    "# Now you can create masks based on the lengths of train_dataset and test_dataset\n",
    "train_mask = torch.zeros(dataset_size, dtype=torch.bool)\n",
    "test_mask = torch.zeros(dataset_size, dtype=torch.bool)\n",
    "train_mask[list(train_dataset.indices)] = True\n",
    "test_mask[list(test_dataset.indices)] = True\n",
    "\n",
    "data.test_mask = test_mask\n",
    "data.train_mask = train_mask\n",
    "num_classes = data.y.shape[1]\n",
    "print(data.test_mask)\n",
    "print(data.train_mask)\n",
    "data"
   ]
  },
  {
   "cell_type": "code",
   "execution_count": 69,
   "metadata": {},
   "outputs": [
    {
     "ename": "RuntimeError",
     "evalue": "module compiled against API version 0xf but this version of numpy is 0xd",
     "output_type": "error",
     "traceback": [
      "\u001b[0;31m---------------------------------------------------------------------------\u001b[0m",
      "\u001b[0;31mImportError\u001b[0m                               Traceback (most recent call last)",
      "\u001b[0;32m~/anaconda3/lib/python3.8/site-packages/tensorboard/compat/__init__.py\u001b[0m in \u001b[0;36mtf\u001b[0;34m()\u001b[0m\n\u001b[1;32m     41\u001b[0m     \u001b[0;32mtry\u001b[0m\u001b[0;34m:\u001b[0m\u001b[0;34m\u001b[0m\u001b[0;34m\u001b[0m\u001b[0m\n\u001b[0;32m---> 42\u001b[0;31m         \u001b[0;32mfrom\u001b[0m \u001b[0mtensorboard\u001b[0m\u001b[0;34m.\u001b[0m\u001b[0mcompat\u001b[0m \u001b[0;32mimport\u001b[0m \u001b[0mnotf\u001b[0m  \u001b[0;31m# noqa: F401\u001b[0m\u001b[0;34m\u001b[0m\u001b[0;34m\u001b[0m\u001b[0m\n\u001b[0m\u001b[1;32m     43\u001b[0m     \u001b[0;32mexcept\u001b[0m \u001b[0mImportError\u001b[0m\u001b[0;34m:\u001b[0m\u001b[0;34m\u001b[0m\u001b[0;34m\u001b[0m\u001b[0m\n",
      "\u001b[0;31mImportError\u001b[0m: cannot import name 'notf' from 'tensorboard.compat' (/Users/Cathryn/anaconda3/lib/python3.8/site-packages/tensorboard/compat/__init__.py)",
      "\nDuring handling of the above exception, another exception occurred:\n",
      "\u001b[0;31mRuntimeError\u001b[0m                              Traceback (most recent call last)",
      "\u001b[0;31mRuntimeError\u001b[0m: module compiled against API version 0xf but this version of numpy is 0xd"
     ]
    }
   ],
   "source": [
    "# tensorboard\n",
    "from torch.utils.tensorboard import SummaryWriter\n",
    "writer = SummaryWriter()"
   ]
  },
  {
   "cell_type": "code",
   "execution_count": 65,
   "metadata": {},
   "outputs": [
    {
     "data": {
      "image/png": "[encoded data removed]",
      "text/plain": [
       "<Figure size 432x288 with 1 Axes>"
      ]
     },
     "metadata": {},
     "output_type": "display_data"
    }
   ],
   "source": [
    "import networkx as nx\n",
    "import torch_geometric.utils\n",
    "\n",
    "g = torch_geometric.utils.to_networkx(data, to_undirected=True)\n",
    "nx.draw(g, node_size=15)"
   ]
  },
  {
   "cell_type": "code",
   "execution_count": 66,
   "metadata": {},
   "outputs": [],
   "source": [
    "import torch_geometric.nn\n",
    "\n",
    "class GCNModel(torch.nn.Module):\n",
    "    def __init__(self, num_nodes, hidden_size=32):\n",
    "        super(GCNModel, self).__init__()\n",
    "        self.node_embedding = torch.nn.Embedding(num_nodes, hidden_size)\n",
    "        # Initialize the embeddings with small random values\n",
    "        torch.nn.init.normal_(self.node_embedding.weight, std=0.1)\n",
    "        self.conv1 = torch_geometric.nn.GCNConv(hidden_size, 16)\n",
    "        self.conv2 = torch_geometric.nn.GCNConv(16, num_classes)\n",
    "\n",
    "    def forward(self, data):\n",
    "        edge_index = data.edge_index\n",
    "        x = self.node_embedding.weight\n",
    "\n",
    "        x = self.conv1(x, edge_index)\n",
    "        x = F.relu(x)\n",
    "        x = F.dropout(x, training=self.training)\n",
    "        x = self.conv2(x, edge_index)\n",
    "        return F.softmax(x, dim=1)"
   ]
  },
  {
   "cell_type": "code",
   "execution_count": 67,
   "metadata": {},
   "outputs": [
    {
     "name": "stdout",
     "output_type": "stream",
     "text": [
      "0 tensor(9.0291, grad_fn=<DivBackward1>)\n",
      "10 tensor(9.0284, grad_fn=<DivBackward1>)\n",
      "20 tensor(9.0272, grad_fn=<DivBackward1>)\n",
      "30 tensor(9.0227, grad_fn=<DivBackward1>)\n",
      "40 tensor(8.9970, grad_fn=<DivBackward1>)\n",
      "50 tensor(8.7522, grad_fn=<DivBackward1>)\n",
      "60 tensor(8.6642, grad_fn=<DivBackward1>)\n",
      "70 tensor(8.6386, grad_fn=<DivBackward1>)\n",
      "80 tensor(8.6377, grad_fn=<DivBackward1>)\n",
      "90 tensor(8.5427, grad_fn=<DivBackward1>)\n"
     ]
    }
   ],
   "source": [
    "device = torch.device('cuda' if torch.cuda.is_available() else 'cpu')\n",
    "model = GCNModel(len(data.x)).to(device)\n",
    "data = data.to(device)\n",
    "optimizer = torch.optim.Adam(model.parameters(), lr=0.01, weight_decay=5e-4)\n",
    "\n",
    "# sets the model in training mode\n",
    "# When you call model.train(), PyTorch enables features such as dropout and \n",
    "# batch normalization, which are typically used during training but not during inference\n",
    "model.train()\n",
    "for epoch in range(100):\n",
    "    optimizer.zero_grad()\n",
    "    out = model(data)\n",
    "    loss = F.cross_entropy(out[data.train_mask], data.y[data.train_mask])\n",
    "    loss.backward()\n",
    "    if(epoch % 10 == 0):\n",
    "        print(epoch, loss)\n",
    "    # writer.add_scalar(\"Loss/train\", loss, epoch)\n",
    "    optimizer.step()\n",
    "\n",
    "# writer.flush()"
   ]
  },
  {
   "cell_type": "code",
   "execution_count": 68,
   "metadata": {},
   "outputs": [
    {
     "name": "stdout",
     "output_type": "stream",
     "text": [
      "tensor([[9.7455e-01, 1.2658e-06, 1.2599e-06,  ..., 1.2371e-06, 1.2315e-06,\n",
      "         1.2316e-06],\n",
      "        [9.4696e-01, 6.1827e-06, 6.1648e-06,  ..., 6.0673e-06, 6.0594e-06,\n",
      "         6.0509e-06],\n",
      "        [9.5951e-01, 1.6134e-05, 1.6013e-05,  ..., 1.5759e-05, 1.5688e-05,\n",
      "         1.5701e-05],\n",
      "        ...,\n",
      "        [9.7411e-01, 3.6677e-06, 3.6455e-06,  ..., 3.5815e-06, 3.5680e-06,\n",
      "         3.5686e-06],\n",
      "        [9.8800e-01, 8.2436e-07, 8.1795e-07,  ..., 8.0183e-07, 7.9658e-07,\n",
      "         7.9787e-07],\n",
      "        [9.7587e-01, 9.1535e-07, 9.1270e-07,  ..., 8.9583e-07, 8.9407e-07,\n",
      "         8.9309e-07]], grad_fn=<SliceBackward0>)\n",
      "Accuracy: 0.9722\n",
      "Precision: 0.3371\n",
      "Recall: 0.5882\n",
      "F1 Score: 0.4286\n"
     ]
    }
   ],
   "source": [
    "from sklearn.metrics import f1_score, precision_score, recall_score\n",
    "\n",
    "model.eval()\n",
    "pred = model(data)\n",
    "print(pred[:10])\n",
    "# Convert probabilities to binary predictions\n",
    "binary_pred = (pred >= 1.0/num_classes).float()\n",
    "# Check if each prediction matches the label for each instance\n",
    "correct = (binary_pred[data.test_mask] == data.y[data.test_mask]).sum() / num_classes\n",
    "acc = int(correct) / int(data.test_mask.sum())\n",
    "\n",
    "print(f'Accuracy: {acc:.4f}')\n",
    "precision = precision_score(data.y[data.test_mask], binary_pred[data.test_mask], average='micro')\n",
    "print(f'Precision: {precision:.4f}')\n",
    "recall = recall_score(data.y[data.test_mask], binary_pred[data.test_mask], average='micro')\n",
    "print(f'Recall: {recall:.4f}')\n",
    "f1 = f1_score(data.y[data.test_mask], binary_pred[data.test_mask], average='micro')\n",
    "print(f'F1 Score: {f1:.4f}')"
   ]
  },
  {
   "cell_type": "code",
   "execution_count": null,
   "metadata": {},
   "outputs": [],
   "source": []
  },
  {
   "cell_type": "code",
   "execution_count": null,
   "metadata": {},
   "outputs": [],
   "source": []
  }
 ],
 "metadata": {
  "kernelspec": {
   "display_name": "Python 3",
   "language": "python",
   "name": "python3"
  },
  "language_info": {
   "codemirror_mode": {
    "name": "ipython",
    "version": 3
   },
   "file_extension": ".py",
   "mimetype": "text/x-python",
   "name": "python",
   "nbconvert_exporter": "python",
   "pygments_lexer": "ipython3",
   "version": "3.8.5"
  }
 },
 "nbformat": 4,
 "nbformat_minor": 4
}
