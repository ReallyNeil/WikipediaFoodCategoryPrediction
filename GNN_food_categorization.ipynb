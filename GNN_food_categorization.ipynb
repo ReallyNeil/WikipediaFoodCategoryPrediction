{
 "cells": [
  {
   "cell_type": "code",
   "execution_count": 2,
   "metadata": {},
   "outputs": [
    {
     "name": "stdout",
     "output_type": "stream",
     "text": [
      "Collecting torch\n",
      "  Downloading torch-2.2.1-cp38-none-macosx_10_9_x86_64.whl (150.6 MB)\n",
      "\u001b[K     |████████████████████████████████| 150.6 MB 186 kB/s  eta 0:00:01\n",
      "\u001b[?25hRequirement already satisfied: networkx in /Users/Cathryn/anaconda3/lib/python3.8/site-packages (from torch) (2.5)\n",
      "Requirement already satisfied: typing-extensions>=4.8.0 in /Users/Cathryn/anaconda3/lib/python3.8/site-packages (from torch) (4.9.0)\n",
      "Requirement already satisfied: fsspec in /Users/Cathryn/anaconda3/lib/python3.8/site-packages (from torch) (0.8.3)\n",
      "Requirement already satisfied: sympy in /Users/Cathryn/anaconda3/lib/python3.8/site-packages (from torch) (1.6.2)\n",
      "Requirement already satisfied: jinja2 in /Users/Cathryn/anaconda3/lib/python3.8/site-packages (from torch) (2.11.2)\n",
      "Requirement already satisfied: filelock in /Users/Cathryn/anaconda3/lib/python3.8/site-packages (from torch) (3.0.12)\n",
      "Requirement already satisfied: decorator>=4.3.0 in /Users/Cathryn/anaconda3/lib/python3.8/site-packages (from networkx->torch) (4.4.2)\n",
      "Requirement already satisfied: mpmath>=0.19 in /Users/Cathryn/anaconda3/lib/python3.8/site-packages (from sympy->torch) (1.1.0)\n",
      "Requirement already satisfied: MarkupSafe>=0.23 in /Users/Cathryn/anaconda3/lib/python3.8/site-packages (from jinja2->torch) (1.1.1)\n",
      "Installing collected packages: torch\n",
      "Successfully installed torch-2.2.1\n"
     ]
    }
   ],
   "source": [
    "!pip install torch"
   ]
  },
  {
   "cell_type": "code",
   "execution_count": 6,
   "metadata": {},
   "outputs": [
    {
     "name": "stdout",
     "output_type": "stream",
     "text": [
      "Requirement already satisfied: torch_geometric in /Users/Cathryn/anaconda3/lib/python3.8/site-packages (2.5.2)\n",
      "Requirement already satisfied: numpy in /Users/Cathryn/anaconda3/lib/python3.8/site-packages (from torch_geometric) (1.19.2)\n",
      "Requirement already satisfied: aiohttp in /Users/Cathryn/anaconda3/lib/python3.8/site-packages (from torch_geometric) (3.9.3)\n",
      "Requirement already satisfied: scikit-learn in /Users/Cathryn/anaconda3/lib/python3.8/site-packages (from torch_geometric) (0.23.2)\n",
      "Requirement already satisfied: scipy in /Users/Cathryn/anaconda3/lib/python3.8/site-packages (from torch_geometric) (1.5.2)\n",
      "Requirement already satisfied: fsspec in /Users/Cathryn/anaconda3/lib/python3.8/site-packages (from torch_geometric) (0.8.3)\n",
      "Requirement already satisfied: pyparsing in /Users/Cathryn/anaconda3/lib/python3.8/site-packages (from torch_geometric) (2.4.7)\n",
      "Requirement already satisfied: psutil>=5.8.0 in /Users/Cathryn/anaconda3/lib/python3.8/site-packages (from torch_geometric) (5.9.8)\n",
      "Requirement already satisfied: requests in /Users/Cathryn/anaconda3/lib/python3.8/site-packages (from torch_geometric) (2.24.0)\n",
      "Requirement already satisfied: jinja2 in /Users/Cathryn/anaconda3/lib/python3.8/site-packages (from torch_geometric) (2.11.2)\n",
      "Requirement already satisfied: tqdm in /Users/Cathryn/anaconda3/lib/python3.8/site-packages (from torch_geometric) (4.50.2)\n",
      "Requirement already satisfied: yarl<2.0,>=1.0 in /Users/Cathryn/anaconda3/lib/python3.8/site-packages (from aiohttp->torch_geometric) (1.9.4)\n",
      "Requirement already satisfied: aiosignal>=1.1.2 in /Users/Cathryn/anaconda3/lib/python3.8/site-packages (from aiohttp->torch_geometric) (1.3.1)\n",
      "Requirement already satisfied: attrs>=17.3.0 in /Users/Cathryn/anaconda3/lib/python3.8/site-packages (from aiohttp->torch_geometric) (20.3.0)\n",
      "Requirement already satisfied: multidict<7.0,>=4.5 in /Users/Cathryn/anaconda3/lib/python3.8/site-packages (from aiohttp->torch_geometric) (6.0.5)\n",
      "Requirement already satisfied: async-timeout<5.0,>=4.0; python_version < \"3.11\" in /Users/Cathryn/anaconda3/lib/python3.8/site-packages (from aiohttp->torch_geometric) (4.0.3)\n",
      "Requirement already satisfied: frozenlist>=1.1.1 in /Users/Cathryn/anaconda3/lib/python3.8/site-packages (from aiohttp->torch_geometric) (1.4.1)\n",
      "Requirement already satisfied: joblib>=0.11 in /Users/Cathryn/anaconda3/lib/python3.8/site-packages (from scikit-learn->torch_geometric) (0.17.0)\n",
      "Requirement already satisfied: threadpoolctl>=2.0.0 in /Users/Cathryn/anaconda3/lib/python3.8/site-packages (from scikit-learn->torch_geometric) (2.1.0)\n",
      "Requirement already satisfied: urllib3!=1.25.0,!=1.25.1,<1.26,>=1.21.1 in /Users/Cathryn/anaconda3/lib/python3.8/site-packages (from requests->torch_geometric) (1.25.11)\n",
      "Requirement already satisfied: idna<3,>=2.5 in /Users/Cathryn/anaconda3/lib/python3.8/site-packages (from requests->torch_geometric) (2.10)\n",
      "Requirement already satisfied: chardet<4,>=3.0.2 in /Users/Cathryn/anaconda3/lib/python3.8/site-packages (from requests->torch_geometric) (3.0.4)\n",
      "Requirement already satisfied: certifi>=2017.4.17 in /Users/Cathryn/anaconda3/lib/python3.8/site-packages (from requests->torch_geometric) (2020.6.20)\n",
      "Requirement already satisfied: MarkupSafe>=0.23 in /Users/Cathryn/anaconda3/lib/python3.8/site-packages (from jinja2->torch_geometric) (1.1.1)\n"
     ]
    }
   ],
   "source": [
    "!pip3 install torch_geometric"
   ]
  },
  {
   "cell_type": "code",
   "execution_count": 101,
   "metadata": {},
   "outputs": [],
   "source": [
    "import torch\n",
    "from torch_geometric.data import Data\n",
    "import torch.nn.functional as F\n",
    "\n",
    "num_classes = 3\n",
    "edge_index = torch.tensor([[0, 1, 1, 2, 3, 2],\n",
    "                           [1, 0, 2, 1, 2, 3]], dtype=torch.long)\n",
    "x = torch.tensor([[], [], [], []], dtype=torch.float)\n",
    "y = torch.tensor([[0, 1, 0], [0, 0, 1], [1, 0, 1], [1, 0, 0]], dtype=torch.float)\n",
    "train_mask = torch.tensor([True, True, False, False], dtype=torch.bool)\n",
    "test_mask = torch.tensor([False, False, True, True], dtype=torch.bool)\n",
    "\n",
    "data = Data(x=x, edge_index=edge_index, y=y, train_mask=train_mask, test_mask=test_mask)"
   ]
  },
  {
   "cell_type": "code",
   "execution_count": 102,
   "metadata": {},
   "outputs": [],
   "source": [
    "class GCNModel(torch.nn.Module):\n",
    "    def __init__(self, num_nodes, hidden_size=32):\n",
    "        super(GCNModel, self).__init__()\n",
    "        self.node_embedding = torch.nn.Embedding(num_nodes, hidden_size)\n",
    "        # Initialize the embeddings with small random values\n",
    "        torch.nn.init.normal_(self.node_embedding.weight, std=0.1)\n",
    "        self.conv1 = GCNConv(hidden_size, 16)\n",
    "        self.conv2 = GCNConv(16, num_classes)\n",
    "\n",
    "    def forward(self, data):\n",
    "        edge_index = data.edge_index\n",
    "        x = self.node_embedding.weight\n",
    "\n",
    "        x = self.conv1(x, edge_index)\n",
    "        x = F.relu(x)\n",
    "        x = F.dropout(x, training=self.training)\n",
    "        x = self.conv2(x, edge_index)\n",
    "        return F.softmax(x, dim=1)"
   ]
  },
  {
   "cell_type": "code",
   "execution_count": 103,
   "metadata": {},
   "outputs": [
    {
     "name": "stdout",
     "output_type": "stream",
     "text": [
      "0 tensor(1.0996, grad_fn=<DivBackward1>)\n",
      "10 tensor(1.0188, grad_fn=<DivBackward1>)\n",
      "20 tensor(1.0038, grad_fn=<DivBackward1>)\n",
      "30 tensor(0.9899, grad_fn=<DivBackward1>)\n",
      "40 tensor(1.0105, grad_fn=<DivBackward1>)\n",
      "50 tensor(0.6312, grad_fn=<DivBackward1>)\n",
      "60 tensor(0.6712, grad_fn=<DivBackward1>)\n",
      "70 tensor(0.7350, grad_fn=<DivBackward1>)\n",
      "80 tensor(0.5685, grad_fn=<DivBackward1>)\n",
      "90 tensor(0.5911, grad_fn=<DivBackward1>)\n"
     ]
    }
   ],
   "source": [
    "device = torch.device('cuda' if torch.cuda.is_available() else 'cpu')\n",
    "model = GCNModel(len(data.x)).to(device)\n",
    "data = data.to(device)\n",
    "optimizer = torch.optim.Adam(model.parameters(), lr=0.01, weight_decay=5e-4)\n",
    "\n",
    "model.train()\n",
    "for epoch in range(100):\n",
    "    optimizer.zero_grad()\n",
    "    out = model(data)\n",
    "    loss = F.cross_entropy(out[data.train_mask], data.y[data.train_mask])\n",
    "    loss.backward()\n",
    "    if(epoch % 10 == 0):\n",
    "        print(epoch, loss)\n",
    "    optimizer.step()\n"
   ]
  },
  {
   "cell_type": "code",
   "execution_count": 107,
   "metadata": {},
   "outputs": [
    {
     "name": "stdout",
     "output_type": "stream",
     "text": [
      "tensor([[5.2608e-10, 2.0960e-11, 1.0000e+00],\n",
      "        [3.0928e-11, 2.9595e-14, 1.0000e+00]], grad_fn=<IndexBackward0>)\n",
      "tensor([[0., 0., 1.],\n",
      "        [0., 0., 1.]]) tensor([[1., 0., 1.],\n",
      "        [1., 0., 0.]])\n",
      "tensor([[False,  True,  True],\n",
      "        [False,  True, False]])\n",
      "tensor(1.)\n",
      "Accuracy: 0.5000\n"
     ]
    }
   ],
   "source": [
    "model.eval()\n",
    "pred = model(data)\n",
    "# Convert probabilities to binary predictions\n",
    "binary_pred = (pred >= 1.0/num_classes).float()\n",
    "# Check if each prediction matches the label for each instance\n",
    "correct = (binary_pred[data.test_mask] == data.y[data.test_mask]).sum() / num_classes\n",
    "acc = int(correct) / int(data.test_mask.sum())\n",
    "print(f'Accuracy: {acc:.4f}')"
   ]
  }
 ],
 "metadata": {
  "kernelspec": {
   "display_name": "Python 3.11.2 64-bit",
   "language": "python",
   "name": "python3"
  },
  "language_info": {
   "codemirror_mode": {
    "name": "ipython",
    "version": 3
   },
   "file_extension": ".py",
   "mimetype": "text/x-python",
   "name": "python",
   "nbconvert_exporter": "python",
   "pygments_lexer": "ipython3",
   "version": "3.11.2"
  },
  "vscode": {
   "interpreter": {
    "hash": "aee8b7b246df8f9039afb4144a1f6fd8d2ca17a180786b69acc140d282b71a49"
   }
  }
 },
 "nbformat": 4,
 "nbformat_minor": 4
}
